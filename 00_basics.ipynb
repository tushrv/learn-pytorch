{
 "cells": [
  {
   "cell_type": "code",
   "execution_count": 3,
   "id": "1d928390",
   "metadata": {},
   "outputs": [
    {
     "name": "stdout",
     "output_type": "stream",
     "text": [
      "1.13.0\n"
     ]
    }
   ],
   "source": [
    "import torch\n",
    "print(torch.__version__)"
   ]
  },
  {
   "cell_type": "code",
   "execution_count": 4,
   "id": "4f37e90f",
   "metadata": {},
   "outputs": [
    {
     "data": {
      "text/plain": [
       "'cpu'"
      ]
     },
     "execution_count": 4,
     "metadata": {},
     "output_type": "execute_result"
    }
   ],
   "source": [
    " # Set device type\n",
    "device = \"cuda\" if torch.cuda.is_available() else \"cpu\"\n",
    "device"
   ]
  },
  {
   "cell_type": "code",
   "execution_count": 5,
   "id": "ee618b5e",
   "metadata": {},
   "outputs": [
    {
     "data": {
      "text/plain": [
       "0"
      ]
     },
     "execution_count": 5,
     "metadata": {},
     "output_type": "execute_result"
    }
   ],
   "source": [
    "# Count number of devices\n",
    "torch.cuda.device_count()"
   ]
  },
  {
   "cell_type": "code",
   "execution_count": 9,
   "id": "9f033606",
   "metadata": {},
   "outputs": [
    {
     "name": "stdout",
     "output_type": "stream",
     "text": [
      "tensor([1, 2, 3, 4, 5]) cpu\n"
     ]
    }
   ],
   "source": [
    "tensor = torch.tensor([1,2,3,4,5])\n",
    "print(tensor,tensor.device)"
   ]
  },
  {
   "cell_type": "code",
   "execution_count": 10,
   "id": "f1eee3c3",
   "metadata": {},
   "outputs": [
    {
     "data": {
      "text/plain": [
       "tensor([1, 2, 3, 4, 5])"
      ]
     },
     "execution_count": 10,
     "metadata": {},
     "output_type": "execute_result"
    }
   ],
   "source": [
    "# Move tensor to GPU (if available)\n",
    "tensor_on_gpu = tensor.to(device)\n",
    "tensor_on_gpu"
   ]
  },
  {
   "cell_type": "markdown",
   "id": "fc549292",
   "metadata": {},
   "source": [
    "# Exercises"
   ]
  },
  {
   "cell_type": "code",
   "execution_count": 20,
   "id": "ccc3453d",
   "metadata": {},
   "outputs": [
    {
     "data": {
      "text/plain": [
       "tensor([[0.4246, 0.1588, 0.4465, 0.1644, 0.1552, 0.3272, 0.7464],\n",
       "        [0.6977, 0.9098, 0.7152, 0.7234, 0.9272, 0.9038, 0.0214],\n",
       "        [0.4302, 0.6398, 0.3398, 0.8781, 0.0939, 0.5664, 0.3718],\n",
       "        [0.5554, 0.9670, 0.7526, 0.9022, 0.2525, 0.3470, 0.7983],\n",
       "        [0.2921, 0.4904, 0.2436, 0.7018, 0.9106, 0.0898, 0.6611],\n",
       "        [0.6675, 0.9347, 0.2503, 0.5347, 0.0582, 0.5009, 0.3680],\n",
       "        [0.8793, 0.5664, 0.3029, 0.8172, 0.8913, 0.4031, 0.5030]])"
      ]
     },
     "execution_count": 20,
     "metadata": {},
     "output_type": "execute_result"
    }
   ],
   "source": [
    "#  Create a random tensor with shape (7, 7)\n",
    "x = torch.rand(size=(7,7))\n",
    "x"
   ]
  },
  {
   "cell_type": "code",
   "execution_count": 21,
   "id": "ae6aea73",
   "metadata": {},
   "outputs": [
    {
     "data": {
      "text/plain": [
       "tensor([[1.2801],\n",
       "        [2.0711],\n",
       "        [1.5512],\n",
       "        [2.3614],\n",
       "        [1.4803],\n",
       "        [1.8524],\n",
       "        [2.0494]])"
      ]
     },
     "execution_count": 21,
     "metadata": {},
     "output_type": "execute_result"
    }
   ],
   "source": [
    "# Create another random tensor\n",
    "\n",
    "# Perform matrix multiplication\n",
    "\n",
    "# Perform a matrix multiplication on the tensor from 2 with another random tensor with shape (1, 7)\n",
    "\n",
    "y = torch.rand(size=(1,7))\n",
    "\n",
    "result = torch.matmul(x,y.T)\n",
    "\n",
    "result"
   ]
  },
  {
   "cell_type": "code",
   "execution_count": 22,
   "id": "38390d86",
   "metadata": {},
   "outputs": [
    {
     "data": {
      "text/plain": [
       "tensor([[1.8542],\n",
       "        [1.9611],\n",
       "        [2.2884],\n",
       "        [3.0481],\n",
       "        [1.7067],\n",
       "        [2.5290],\n",
       "        [1.7989]])"
      ]
     },
     "execution_count": 22,
     "metadata": {},
     "output_type": "execute_result"
    }
   ],
   "source": [
    "# Set manual seed\n",
    "\n",
    "\n",
    "# Create two random tensors\n",
    "\n",
    "\n",
    "# Matrix multiply tensors\n",
    "\n",
    "torch.manual_seed(0)\n",
    "x = torch.rand(size=(7,7))\n",
    "y = torch.rand(size=(1,7))\n",
    "\n",
    "result = torch.matmul(x,y.T)\n",
    "\n",
    "result"
   ]
  },
  {
   "cell_type": "code",
   "execution_count": 23,
   "id": "7f0d4d53",
   "metadata": {},
   "outputs": [
    {
     "data": {
      "text/plain": [
       "(tensor([[0.0290, 0.4019, 0.2598],\n",
       "         [0.3666, 0.0583, 0.7006]]),\n",
       " tensor([[0.0518, 0.4681, 0.6738],\n",
       "         [0.3315, 0.7837, 0.5631]]))"
      ]
     },
     "execution_count": 23,
     "metadata": {},
     "output_type": "execute_result"
    }
   ],
   "source": [
    "# Create two random tensors of shape (2, 3) and send them both to the GPU (you'll need access to a GPU for this). \n",
    "# Set torch.manual_seed(1234) when creating the tensors \n",
    "\n",
    "torch.manual_seed(1234)\n",
    "x = torch.rand(size=(2,3)).to(device)\n",
    "y = torch.rand(size=(2,3)).to(device)\n",
    "x, y"
   ]
  },
  {
   "cell_type": "code",
   "execution_count": 24,
   "id": "056ed789",
   "metadata": {},
   "outputs": [
    {
     "data": {
      "text/plain": [
       "(tensor([[0.3647, 0.4709],\n",
       "         [0.5184, 0.5617]]),\n",
       " torch.Size([2, 2]))"
      ]
     },
     "execution_count": 24,
     "metadata": {},
     "output_type": "execute_result"
    }
   ],
   "source": [
    "z = torch.matmul(x,y.T)\n",
    "z, z.shape"
   ]
  },
  {
   "cell_type": "code",
   "execution_count": 25,
   "id": "4c258436",
   "metadata": {},
   "outputs": [
    {
     "data": {
      "text/plain": [
       "(tensor(0.5617), tensor(0.3647))"
      ]
     },
     "execution_count": 25,
     "metadata": {},
     "output_type": "execute_result"
    }
   ],
   "source": [
    "# Find the maximum and minimum values of the output\n",
    "\n",
    "maxx = torch.max(z)\n",
    "minn = torch.min(z)\n",
    "\n",
    "maxx, minn"
   ]
  },
  {
   "cell_type": "code",
   "execution_count": 26,
   "id": "392f00d4",
   "metadata": {},
   "outputs": [
    {
     "data": {
      "text/plain": [
       "(tensor(3), tensor(3))"
      ]
     },
     "execution_count": 26,
     "metadata": {},
     "output_type": "execute_result"
    }
   ],
   "source": [
    "#  Find the maximum and minimum index values of the output\n",
    "\n",
    "maxx_idx = torch.argmax(z)\n",
    "minn_idx = torch.argmax(z)\n",
    "\n",
    "maxx_idx, minn_idx"
   ]
  },
  {
   "cell_type": "code",
   "execution_count": null,
   "id": "1b39e859",
   "metadata": {},
   "outputs": [],
   "source": []
  }
 ],
 "metadata": {
  "kernelspec": {
   "display_name": "Python 3 (ipykernel)",
   "language": "python",
   "name": "python3"
  },
  "language_info": {
   "codemirror_mode": {
    "name": "ipython",
    "version": 3
   },
   "file_extension": ".py",
   "mimetype": "text/x-python",
   "name": "python",
   "nbconvert_exporter": "python",
   "pygments_lexer": "ipython3",
   "version": "3.9.12"
  }
 },
 "nbformat": 4,
 "nbformat_minor": 5
}
